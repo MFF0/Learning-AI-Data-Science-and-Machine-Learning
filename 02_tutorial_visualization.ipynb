{
  "cells": [
    {
      "cell_type": "markdown",
      "metadata": {
        "id": "IsFh80dTQ_Ry"
      },
      "source": [
        "# **Part 1: Anscombe's quartet**"
      ]
    },
    {
      "cell_type": "markdown",
      "metadata": {
        "id": "X1Khx75UNJXn"
      },
      "source": [
        "## **Step 1: Setup in Google Colab**\n",
        "Open Google Colab.\n",
        "Ensure the dataset /content/sample_data/anscombe.json is available (default in Colab)."
      ]
    },
    {
      "cell_type": "code",
      "execution_count": 12,
      "metadata": {
        "id": "WInjeXw1NIMl"
      },
      "outputs": [],
      "source": [
        "import pandas as pd\n",
        "import matplotlib.pyplot as plt\n",
        "import json #sometimes, we need extra libraries to explore our data, in this case the json library is required"
      ]
    },
    {
      "cell_type": "markdown",
      "metadata": {
        "id": "wpx4fAZ8O7yi"
      },
      "source": [
        "## **Step 2: Loading the Dataset**\n",
        "\n",
        "Load the dataset:"
      ]
    },
    {
      "cell_type": "code",
      "execution_count": 13,
      "metadata": {
        "colab": {
          "base_uri": "https://localhost:8080/",
          "height": 1000
        },
        "id": "zDUyBnqoPAIG",
        "outputId": "d6c7201a-4ada-4f5c-f645-2fa4a5264e74"
      },
      "outputs": [
        {
          "data": {
            "text/html": [
              "<div>\n",
              "<style scoped>\n",
              "    .dataframe tbody tr th:only-of-type {\n",
              "        vertical-align: middle;\n",
              "    }\n",
              "\n",
              "    .dataframe tbody tr th {\n",
              "        vertical-align: top;\n",
              "    }\n",
              "\n",
              "    .dataframe thead th {\n",
              "        text-align: right;\n",
              "    }\n",
              "</style>\n",
              "<table border=\"1\" class=\"dataframe\">\n",
              "  <thead>\n",
              "    <tr style=\"text-align: right;\">\n",
              "      <th></th>\n",
              "      <th>Series</th>\n",
              "      <th>X</th>\n",
              "      <th>Y</th>\n",
              "    </tr>\n",
              "  </thead>\n",
              "  <tbody>\n",
              "    <tr>\n",
              "      <th>0</th>\n",
              "      <td>I</td>\n",
              "      <td>10.0</td>\n",
              "      <td>8.04</td>\n",
              "    </tr>\n",
              "    <tr>\n",
              "      <th>1</th>\n",
              "      <td>I</td>\n",
              "      <td>8.0</td>\n",
              "      <td>6.95</td>\n",
              "    </tr>\n",
              "    <tr>\n",
              "      <th>2</th>\n",
              "      <td>I</td>\n",
              "      <td>13.0</td>\n",
              "      <td>7.58</td>\n",
              "    </tr>\n",
              "    <tr>\n",
              "      <th>3</th>\n",
              "      <td>I</td>\n",
              "      <td>9.0</td>\n",
              "      <td>8.81</td>\n",
              "    </tr>\n",
              "    <tr>\n",
              "      <th>4</th>\n",
              "      <td>I</td>\n",
              "      <td>11.0</td>\n",
              "      <td>8.33</td>\n",
              "    </tr>\n",
              "    <tr>\n",
              "      <th>5</th>\n",
              "      <td>I</td>\n",
              "      <td>14.0</td>\n",
              "      <td>9.96</td>\n",
              "    </tr>\n",
              "    <tr>\n",
              "      <th>6</th>\n",
              "      <td>I</td>\n",
              "      <td>6.0</td>\n",
              "      <td>7.24</td>\n",
              "    </tr>\n",
              "    <tr>\n",
              "      <th>7</th>\n",
              "      <td>I</td>\n",
              "      <td>4.0</td>\n",
              "      <td>4.26</td>\n",
              "    </tr>\n",
              "    <tr>\n",
              "      <th>8</th>\n",
              "      <td>I</td>\n",
              "      <td>12.0</td>\n",
              "      <td>10.84</td>\n",
              "    </tr>\n",
              "    <tr>\n",
              "      <th>9</th>\n",
              "      <td>I</td>\n",
              "      <td>7.0</td>\n",
              "      <td>4.81</td>\n",
              "    </tr>\n",
              "    <tr>\n",
              "      <th>10</th>\n",
              "      <td>I</td>\n",
              "      <td>5.0</td>\n",
              "      <td>5.68</td>\n",
              "    </tr>\n",
              "    <tr>\n",
              "      <th>11</th>\n",
              "      <td>II</td>\n",
              "      <td>10.0</td>\n",
              "      <td>9.14</td>\n",
              "    </tr>\n",
              "    <tr>\n",
              "      <th>12</th>\n",
              "      <td>II</td>\n",
              "      <td>8.0</td>\n",
              "      <td>8.14</td>\n",
              "    </tr>\n",
              "    <tr>\n",
              "      <th>13</th>\n",
              "      <td>II</td>\n",
              "      <td>13.0</td>\n",
              "      <td>8.74</td>\n",
              "    </tr>\n",
              "    <tr>\n",
              "      <th>14</th>\n",
              "      <td>II</td>\n",
              "      <td>9.0</td>\n",
              "      <td>8.77</td>\n",
              "    </tr>\n",
              "    <tr>\n",
              "      <th>15</th>\n",
              "      <td>II</td>\n",
              "      <td>11.0</td>\n",
              "      <td>9.26</td>\n",
              "    </tr>\n",
              "    <tr>\n",
              "      <th>16</th>\n",
              "      <td>II</td>\n",
              "      <td>14.0</td>\n",
              "      <td>8.10</td>\n",
              "    </tr>\n",
              "    <tr>\n",
              "      <th>17</th>\n",
              "      <td>II</td>\n",
              "      <td>6.0</td>\n",
              "      <td>6.13</td>\n",
              "    </tr>\n",
              "    <tr>\n",
              "      <th>18</th>\n",
              "      <td>II</td>\n",
              "      <td>4.0</td>\n",
              "      <td>3.10</td>\n",
              "    </tr>\n",
              "    <tr>\n",
              "      <th>19</th>\n",
              "      <td>II</td>\n",
              "      <td>12.0</td>\n",
              "      <td>9.13</td>\n",
              "    </tr>\n",
              "    <tr>\n",
              "      <th>20</th>\n",
              "      <td>II</td>\n",
              "      <td>7.0</td>\n",
              "      <td>7.26</td>\n",
              "    </tr>\n",
              "    <tr>\n",
              "      <th>21</th>\n",
              "      <td>II</td>\n",
              "      <td>5.0</td>\n",
              "      <td>4.74</td>\n",
              "    </tr>\n",
              "    <tr>\n",
              "      <th>22</th>\n",
              "      <td>III</td>\n",
              "      <td>10.0</td>\n",
              "      <td>7.46</td>\n",
              "    </tr>\n",
              "    <tr>\n",
              "      <th>23</th>\n",
              "      <td>III</td>\n",
              "      <td>8.0</td>\n",
              "      <td>6.77</td>\n",
              "    </tr>\n",
              "    <tr>\n",
              "      <th>24</th>\n",
              "      <td>III</td>\n",
              "      <td>13.0</td>\n",
              "      <td>12.74</td>\n",
              "    </tr>\n",
              "    <tr>\n",
              "      <th>25</th>\n",
              "      <td>III</td>\n",
              "      <td>9.0</td>\n",
              "      <td>7.11</td>\n",
              "    </tr>\n",
              "    <tr>\n",
              "      <th>26</th>\n",
              "      <td>III</td>\n",
              "      <td>11.0</td>\n",
              "      <td>7.81</td>\n",
              "    </tr>\n",
              "    <tr>\n",
              "      <th>27</th>\n",
              "      <td>III</td>\n",
              "      <td>14.0</td>\n",
              "      <td>8.84</td>\n",
              "    </tr>\n",
              "    <tr>\n",
              "      <th>28</th>\n",
              "      <td>III</td>\n",
              "      <td>6.0</td>\n",
              "      <td>6.08</td>\n",
              "    </tr>\n",
              "    <tr>\n",
              "      <th>29</th>\n",
              "      <td>III</td>\n",
              "      <td>4.0</td>\n",
              "      <td>5.39</td>\n",
              "    </tr>\n",
              "    <tr>\n",
              "      <th>30</th>\n",
              "      <td>III</td>\n",
              "      <td>12.0</td>\n",
              "      <td>8.15</td>\n",
              "    </tr>\n",
              "    <tr>\n",
              "      <th>31</th>\n",
              "      <td>III</td>\n",
              "      <td>7.0</td>\n",
              "      <td>6.42</td>\n",
              "    </tr>\n",
              "    <tr>\n",
              "      <th>32</th>\n",
              "      <td>III</td>\n",
              "      <td>5.0</td>\n",
              "      <td>5.73</td>\n",
              "    </tr>\n",
              "    <tr>\n",
              "      <th>33</th>\n",
              "      <td>IV</td>\n",
              "      <td>8.0</td>\n",
              "      <td>6.58</td>\n",
              "    </tr>\n",
              "    <tr>\n",
              "      <th>34</th>\n",
              "      <td>IV</td>\n",
              "      <td>8.0</td>\n",
              "      <td>5.76</td>\n",
              "    </tr>\n",
              "    <tr>\n",
              "      <th>35</th>\n",
              "      <td>IV</td>\n",
              "      <td>8.0</td>\n",
              "      <td>7.71</td>\n",
              "    </tr>\n",
              "    <tr>\n",
              "      <th>36</th>\n",
              "      <td>IV</td>\n",
              "      <td>8.0</td>\n",
              "      <td>8.84</td>\n",
              "    </tr>\n",
              "    <tr>\n",
              "      <th>37</th>\n",
              "      <td>IV</td>\n",
              "      <td>8.0</td>\n",
              "      <td>8.47</td>\n",
              "    </tr>\n",
              "    <tr>\n",
              "      <th>38</th>\n",
              "      <td>IV</td>\n",
              "      <td>8.0</td>\n",
              "      <td>7.04</td>\n",
              "    </tr>\n",
              "    <tr>\n",
              "      <th>39</th>\n",
              "      <td>IV</td>\n",
              "      <td>8.0</td>\n",
              "      <td>5.25</td>\n",
              "    </tr>\n",
              "    <tr>\n",
              "      <th>40</th>\n",
              "      <td>IV</td>\n",
              "      <td>19.0</td>\n",
              "      <td>12.50</td>\n",
              "    </tr>\n",
              "    <tr>\n",
              "      <th>41</th>\n",
              "      <td>IV</td>\n",
              "      <td>8.0</td>\n",
              "      <td>5.56</td>\n",
              "    </tr>\n",
              "    <tr>\n",
              "      <th>42</th>\n",
              "      <td>IV</td>\n",
              "      <td>8.0</td>\n",
              "      <td>7.91</td>\n",
              "    </tr>\n",
              "    <tr>\n",
              "      <th>43</th>\n",
              "      <td>IV</td>\n",
              "      <td>8.0</td>\n",
              "      <td>6.89</td>\n",
              "    </tr>\n",
              "  </tbody>\n",
              "</table>\n",
              "</div>"
            ],
            "text/plain": [
              "   Series     X      Y\n",
              "0       I  10.0   8.04\n",
              "1       I   8.0   6.95\n",
              "2       I  13.0   7.58\n",
              "3       I   9.0   8.81\n",
              "4       I  11.0   8.33\n",
              "5       I  14.0   9.96\n",
              "6       I   6.0   7.24\n",
              "7       I   4.0   4.26\n",
              "8       I  12.0  10.84\n",
              "9       I   7.0   4.81\n",
              "10      I   5.0   5.68\n",
              "11     II  10.0   9.14\n",
              "12     II   8.0   8.14\n",
              "13     II  13.0   8.74\n",
              "14     II   9.0   8.77\n",
              "15     II  11.0   9.26\n",
              "16     II  14.0   8.10\n",
              "17     II   6.0   6.13\n",
              "18     II   4.0   3.10\n",
              "19     II  12.0   9.13\n",
              "20     II   7.0   7.26\n",
              "21     II   5.0   4.74\n",
              "22    III  10.0   7.46\n",
              "23    III   8.0   6.77\n",
              "24    III  13.0  12.74\n",
              "25    III   9.0   7.11\n",
              "26    III  11.0   7.81\n",
              "27    III  14.0   8.84\n",
              "28    III   6.0   6.08\n",
              "29    III   4.0   5.39\n",
              "30    III  12.0   8.15\n",
              "31    III   7.0   6.42\n",
              "32    III   5.0   5.73\n",
              "33     IV   8.0   6.58\n",
              "34     IV   8.0   5.76\n",
              "35     IV   8.0   7.71\n",
              "36     IV   8.0   8.84\n",
              "37     IV   8.0   8.47\n",
              "38     IV   8.0   7.04\n",
              "39     IV   8.0   5.25\n",
              "40     IV  19.0  12.50\n",
              "41     IV   8.0   5.56\n",
              "42     IV   8.0   7.91\n",
              "43     IV   8.0   6.89"
            ]
          },
          "execution_count": 13,
          "metadata": {},
          "output_type": "execute_result"
        }
      ],
      "source": [
        "# Load the JSON dataset\n",
        "file_path = \"Resources/anscombe.json\"\n",
        "with open(file_path, 'r') as file:\n",
        "    data = json.load(file)\n",
        "\n",
        "# Convert JSON data into a DataFrame, very straight forward\n",
        "df = pd.DataFrame(data)\n",
        "\n",
        "df.head(50)"
      ]
    },
    {
      "cell_type": "markdown",
      "metadata": {
        "id": "UwnMla3zPFxy"
      },
      "source": [
        "## **Step 3: Understanding the Dataset**\n",
        "\n",
        "The Anscombe dataset consists of multiple datasets (I, II, III, IV) with two variables, x and y, demonstrating how similar statistical properties can represent very different distributions. We saw it in class."
      ]
    },
    {
      "cell_type": "code",
      "execution_count": 14,
      "metadata": {
        "colab": {
          "base_uri": "https://localhost:8080/"
        },
        "id": "Wq6lYw4nPjXv",
        "outputId": "ddda62f6-85fc-4553-fa5d-a69ae33fdfb8"
      },
      "outputs": [
        {
          "name": "stdout",
          "output_type": "stream",
          "text": [
            "Unique datasets:\n",
            "['I' 'II' 'III' 'IV']\n"
          ]
        }
      ],
      "source": [
        "# Unique datasets in the 'dataset' column\n",
        "print(\"Unique datasets:\")\n",
        "print(df['Series'].unique())"
      ]
    },
    {
      "cell_type": "code",
      "execution_count": 15,
      "metadata": {
        "colab": {
          "base_uri": "https://localhost:8080/"
        },
        "id": "2F5JaGzSPmlr",
        "outputId": "af6db33c-e4a1-4097-8aed-d9949f31b06f"
      },
      "outputs": [
        {
          "name": "stdout",
          "output_type": "stream",
          "text": [
            "Summary statistics:\n",
            "          X                   Y          \n",
            "       mean       std      mean       std\n",
            "Series                                   \n",
            "I       9.0  3.316625  7.500000  2.032890\n",
            "II      9.0  3.316625  7.500909  2.031657\n",
            "III     9.0  3.316625  7.500000  2.030424\n",
            "IV      9.0  3.316625  7.500909  2.030579\n"
          ]
        }
      ],
      "source": [
        "# Calculate summary statistics grouped by dataset\n",
        "summary = df.groupby('Series').agg({\n",
        "    'X': ['mean', 'std'],\n",
        "    'Y': ['mean', 'std']\n",
        "})\n",
        "print(\"Summary statistics:\")\n",
        "print(summary)"
      ]
    },
    {
      "cell_type": "code",
      "execution_count": 16,
      "metadata": {
        "colab": {
          "base_uri": "https://localhost:8080/"
        },
        "id": "E_NX1hUxSGoU",
        "outputId": "3eafcff8-6212-4a8b-ff7c-6e2e9598755e"
      },
      "outputs": [
        {
          "name": "stdout",
          "output_type": "stream",
          "text": [
            "x values:\n",
            " 0     10.0\n",
            "1      8.0\n",
            "2     13.0\n",
            "3      9.0\n",
            "4     11.0\n",
            "5     14.0\n",
            "6      6.0\n",
            "7      4.0\n",
            "8     12.0\n",
            "9      7.0\n",
            "10     5.0\n",
            "11    10.0\n",
            "12     8.0\n",
            "13    13.0\n",
            "14     9.0\n",
            "15    11.0\n",
            "16    14.0\n",
            "17     6.0\n",
            "18     4.0\n",
            "19    12.0\n",
            "20     7.0\n",
            "21     5.0\n",
            "22    10.0\n",
            "23     8.0\n",
            "24    13.0\n",
            "25     9.0\n",
            "26    11.0\n",
            "27    14.0\n",
            "28     6.0\n",
            "29     4.0\n",
            "30    12.0\n",
            "31     7.0\n",
            "32     5.0\n",
            "33     8.0\n",
            "34     8.0\n",
            "35     8.0\n",
            "36     8.0\n",
            "37     8.0\n",
            "38     8.0\n",
            "39     8.0\n",
            "40    19.0\n",
            "41     8.0\n",
            "42     8.0\n",
            "43     8.0\n",
            "Name: X, dtype: float64\n",
            "\n",
            "y values:\n",
            " 0      8.04\n",
            "1      6.95\n",
            "2      7.58\n",
            "3      8.81\n",
            "4      8.33\n",
            "5      9.96\n",
            "6      7.24\n",
            "7      4.26\n",
            "8     10.84\n",
            "9      4.81\n",
            "10     5.68\n",
            "11     9.14\n",
            "12     8.14\n",
            "13     8.74\n",
            "14     8.77\n",
            "15     9.26\n",
            "16     8.10\n",
            "17     6.13\n",
            "18     3.10\n",
            "19     9.13\n",
            "20     7.26\n",
            "21     4.74\n",
            "22     7.46\n",
            "23     6.77\n",
            "24    12.74\n",
            "25     7.11\n",
            "26     7.81\n",
            "27     8.84\n",
            "28     6.08\n",
            "29     5.39\n",
            "30     8.15\n",
            "31     6.42\n",
            "32     5.73\n",
            "33     6.58\n",
            "34     5.76\n",
            "35     7.71\n",
            "36     8.84\n",
            "37     8.47\n",
            "38     7.04\n",
            "39     5.25\n",
            "40    12.50\n",
            "41     5.56\n",
            "42     7.91\n",
            "43     6.89\n",
            "Name: Y, dtype: float64\n",
            "\n",
            "x and y values:\n",
            "        X      Y\n",
            "0   10.0   8.04\n",
            "1    8.0   6.95\n",
            "2   13.0   7.58\n",
            "3    9.0   8.81\n",
            "4   11.0   8.33\n",
            "5   14.0   9.96\n",
            "6    6.0   7.24\n",
            "7    4.0   4.26\n",
            "8   12.0  10.84\n",
            "9    7.0   4.81\n",
            "10   5.0   5.68\n",
            "11  10.0   9.14\n",
            "12   8.0   8.14\n",
            "13  13.0   8.74\n",
            "14   9.0   8.77\n",
            "15  11.0   9.26\n",
            "16  14.0   8.10\n",
            "17   6.0   6.13\n",
            "18   4.0   3.10\n",
            "19  12.0   9.13\n",
            "20   7.0   7.26\n",
            "21   5.0   4.74\n",
            "22  10.0   7.46\n",
            "23   8.0   6.77\n",
            "24  13.0  12.74\n",
            "25   9.0   7.11\n",
            "26  11.0   7.81\n",
            "27  14.0   8.84\n",
            "28   6.0   6.08\n",
            "29   4.0   5.39\n",
            "30  12.0   8.15\n",
            "31   7.0   6.42\n",
            "32   5.0   5.73\n",
            "33   8.0   6.58\n",
            "34   8.0   5.76\n",
            "35   8.0   7.71\n",
            "36   8.0   8.84\n",
            "37   8.0   8.47\n",
            "38   8.0   7.04\n",
            "39   8.0   5.25\n",
            "40  19.0  12.50\n",
            "41   8.0   5.56\n",
            "42   8.0   7.91\n",
            "43   8.0   6.89\n"
          ]
        }
      ],
      "source": [
        "# Access the 'x' and 'y' columns\n",
        "x_values = df['X']\n",
        "y_values = df['Y']\n",
        "\n",
        "print(\"x values:\\n\", x_values)\n",
        "print(\"\\ny values:\\n\", y_values)\n",
        "\n",
        "# Accessing multiple columns\n",
        "xy_values = df[['X', 'Y']]\n",
        "print(\"\\nx and y values:\\n\", xy_values)"
      ]
    },
    {
      "cell_type": "code",
      "execution_count": 17,
      "metadata": {
        "colab": {
          "base_uri": "https://localhost:8080/",
          "height": 394
        },
        "id": "GitPejvdSosz",
        "outputId": "af4a6e1f-dc3e-4e64-8739-606de5f025b7"
      },
      "outputs": [
        {
          "data": {
            "text/html": [
              "<div>\n",
              "<style scoped>\n",
              "    .dataframe tbody tr th:only-of-type {\n",
              "        vertical-align: middle;\n",
              "    }\n",
              "\n",
              "    .dataframe tbody tr th {\n",
              "        vertical-align: top;\n",
              "    }\n",
              "\n",
              "    .dataframe thead th {\n",
              "        text-align: right;\n",
              "    }\n",
              "</style>\n",
              "<table border=\"1\" class=\"dataframe\">\n",
              "  <thead>\n",
              "    <tr style=\"text-align: right;\">\n",
              "      <th></th>\n",
              "      <th>Series</th>\n",
              "      <th>X</th>\n",
              "      <th>Y</th>\n",
              "    </tr>\n",
              "  </thead>\n",
              "  <tbody>\n",
              "    <tr>\n",
              "      <th>33</th>\n",
              "      <td>IV</td>\n",
              "      <td>8.0</td>\n",
              "      <td>6.58</td>\n",
              "    </tr>\n",
              "    <tr>\n",
              "      <th>34</th>\n",
              "      <td>IV</td>\n",
              "      <td>8.0</td>\n",
              "      <td>5.76</td>\n",
              "    </tr>\n",
              "    <tr>\n",
              "      <th>35</th>\n",
              "      <td>IV</td>\n",
              "      <td>8.0</td>\n",
              "      <td>7.71</td>\n",
              "    </tr>\n",
              "    <tr>\n",
              "      <th>36</th>\n",
              "      <td>IV</td>\n",
              "      <td>8.0</td>\n",
              "      <td>8.84</td>\n",
              "    </tr>\n",
              "    <tr>\n",
              "      <th>37</th>\n",
              "      <td>IV</td>\n",
              "      <td>8.0</td>\n",
              "      <td>8.47</td>\n",
              "    </tr>\n",
              "    <tr>\n",
              "      <th>38</th>\n",
              "      <td>IV</td>\n",
              "      <td>8.0</td>\n",
              "      <td>7.04</td>\n",
              "    </tr>\n",
              "    <tr>\n",
              "      <th>39</th>\n",
              "      <td>IV</td>\n",
              "      <td>8.0</td>\n",
              "      <td>5.25</td>\n",
              "    </tr>\n",
              "    <tr>\n",
              "      <th>40</th>\n",
              "      <td>IV</td>\n",
              "      <td>19.0</td>\n",
              "      <td>12.50</td>\n",
              "    </tr>\n",
              "    <tr>\n",
              "      <th>41</th>\n",
              "      <td>IV</td>\n",
              "      <td>8.0</td>\n",
              "      <td>5.56</td>\n",
              "    </tr>\n",
              "    <tr>\n",
              "      <th>42</th>\n",
              "      <td>IV</td>\n",
              "      <td>8.0</td>\n",
              "      <td>7.91</td>\n",
              "    </tr>\n",
              "    <tr>\n",
              "      <th>43</th>\n",
              "      <td>IV</td>\n",
              "      <td>8.0</td>\n",
              "      <td>6.89</td>\n",
              "    </tr>\n",
              "  </tbody>\n",
              "</table>\n",
              "</div>"
            ],
            "text/plain": [
              "   Series     X      Y\n",
              "33     IV   8.0   6.58\n",
              "34     IV   8.0   5.76\n",
              "35     IV   8.0   7.71\n",
              "36     IV   8.0   8.84\n",
              "37     IV   8.0   8.47\n",
              "38     IV   8.0   7.04\n",
              "39     IV   8.0   5.25\n",
              "40     IV  19.0  12.50\n",
              "41     IV   8.0   5.56\n",
              "42     IV   8.0   7.91\n",
              "43     IV   8.0   6.89"
            ]
          },
          "execution_count": 17,
          "metadata": {},
          "output_type": "execute_result"
        }
      ],
      "source": [
        "from re import I\n",
        "# Pull a single series from the dataset\n",
        "# Filter rows where the 'Series' column is equal to 'I'\n",
        "I_values = df[df['Series'] == 'I']\n",
        "I_values\n",
        "II_values = df[df['Series'] == 'II']\n",
        "II_values\n",
        "III_values = df[df['Series'] == 'III']\n",
        "III_values\n",
        "IV_values = df[df['Series'] == 'IV']\n",
        "IV_values\n",
        "\n"
      ]
    },
    {
      "cell_type": "markdown",
      "metadata": {
        "id": "2iFWqCqpPpOB"
      },
      "source": [
        "## **Step4: Visualizing the data**\n",
        "\n",
        "Task 1: Scatterplots"
      ]
    },
    {
      "cell_type": "code",
      "execution_count": 18,
      "metadata": {
        "colab": {
          "base_uri": "https://localhost:8080/",
          "height": 447
        },
        "id": "g9aJA7n6P9JC",
        "outputId": "57182f39-6227-4844-906e-91b63aec0f3d"
      },
      "outputs": [
        {
          "data": {
            "text/plain": [
              "<matplotlib.collections.PathCollection at 0x2c6d1cca540>"
            ]
          },
          "execution_count": 18,
          "metadata": {},
          "output_type": "execute_result"
        },
        {
          "data": {
            "image/png": "[encoded data removed]",
            "text/plain": [
              "<Figure size 640x480 with 1 Axes>"
            ]
          },
          "metadata": {},
          "output_type": "display_data"
        }
      ],
      "source": [
        "plt.scatter(df['X'], df['Y'])"
      ]
    },
    {
      "cell_type": "markdown",
      "metadata": {
        "id": "CfJr0rb4QCjJ"
      },
      "source": [
        "Do the scatter plots look similar or different across datasets?\n",
        "\n",
        "How does this align with the summary statistics?"
      ]
    },
    {
      "cell_type": "markdown",
      "metadata": {
        "id": "VBOhjOWnQFAC"
      },
      "source": [
        "Task 2: Combine All Datasets in One Plot"
      ]
    },
    {
      "cell_type": "code",
      "execution_count": 19,
      "metadata": {
        "colab": {
          "base_uri": "https://localhost:8080/",
          "height": 447
        },
        "id": "sqxMedj0SAPj",
        "outputId": "a6ce2017-493f-4759-d8b0-3d24bf677b54"
      },
      "outputs": [
        {
          "data": {
            "text/plain": [
              "<matplotlib.collections.PathCollection at 0x2c6cf64ede0>"
            ]
          },
          "execution_count": 19,
          "metadata": {},
          "output_type": "execute_result"
        },
        {
          "data": {
            "image/png": "[encoded data removed]",
            "text/plain": [
              "<Figure size 640x480 with 1 Axes>"
            ]
          },
          "metadata": {},
          "output_type": "display_data"
        }
      ],
      "source": [
        "plt.scatter(I_values['X'], I_values['Y'], color='blue')\n",
        "plt.scatter(II_values['X'], II_values['Y'], color='red')\n",
        "plt.scatter(III_values['X'], III_values['Y'], color='green')\n",
        "plt.scatter(IV_values['X'], IV_values['Y'], color='yellow')"
      ]
    },
    {
      "cell_type": "markdown",
      "metadata": {
        "id": "b6HhMOMSQ15M"
      },
      "source": [
        "# **Part 2: New dataset, new tasks**"
      ]
    },
    {
      "cell_type": "markdown",
      "metadata": {
        "id": "TEwMMVICRLZ9"
      },
      "source": [
        "**Step1:** Load the california housing test data from colab (available by default)."
      ]
    },
    {
      "cell_type": "code",
      "execution_count": 20,
      "metadata": {
        "id": "kMbiLsZZQIRZ"
      },
      "outputs": [],
      "source": [
        "df2 = pd.read_csv(\"Resources/california_housing_test.csv\")"
      ]
    },
    {
      "cell_type": "code",
      "execution_count": 21,
      "metadata": {
        "colab": {
          "base_uri": "https://localhost:8080/",
          "height": 206
        },
        "id": "KaQddwLBQuaf",
        "outputId": "f5d8eb86-e26f-4deb-a06e-92d0e4345a3d"
      },
      "outputs": [
        {
          "data": {
            "text/html": [
              "<div>\n",
              "<style scoped>\n",
              "    .dataframe tbody tr th:only-of-type {\n",
              "        vertical-align: middle;\n",
              "    }\n",
              "\n",
              "    .dataframe tbody tr th {\n",
              "        vertical-align: top;\n",
              "    }\n",
              "\n",
              "    .dataframe thead th {\n",
              "        text-align: right;\n",
              "    }\n",
              "</style>\n",
              "<table border=\"1\" class=\"dataframe\">\n",
              "  <thead>\n",
              "    <tr style=\"text-align: right;\">\n",
              "      <th></th>\n",
              "      <th>longitude</th>\n",
              "      <th>latitude</th>\n",
              "      <th>housing_median_age</th>\n",
              "      <th>total_rooms</th>\n",
              "      <th>total_bedrooms</th>\n",
              "      <th>population</th>\n",
              "      <th>households</th>\n",
              "      <th>median_income</th>\n",
              "      <th>median_house_value</th>\n",
              "    </tr>\n",
              "  </thead>\n",
              "  <tbody>\n",
              "    <tr>\n",
              "      <th>0</th>\n",
              "      <td>-122.05</td>\n",
              "      <td>37.37</td>\n",
              "      <td>27.0</td>\n",
              "      <td>3885.0</td>\n",
              "      <td>661.0</td>\n",
              "      <td>1537.0</td>\n",
              "      <td>606.0</td>\n",
              "      <td>6.6085</td>\n",
              "      <td>344700.0</td>\n",
              "    </tr>\n",
              "    <tr>\n",
              "      <th>1</th>\n",
              "      <td>-118.30</td>\n",
              "      <td>34.26</td>\n",
              "      <td>43.0</td>\n",
              "      <td>1510.0</td>\n",
              "      <td>310.0</td>\n",
              "      <td>809.0</td>\n",
              "      <td>277.0</td>\n",
              "      <td>3.5990</td>\n",
              "      <td>176500.0</td>\n",
              "    </tr>\n",
              "    <tr>\n",
              "      <th>2</th>\n",
              "      <td>-117.81</td>\n",
              "      <td>33.78</td>\n",
              "      <td>27.0</td>\n",
              "      <td>3589.0</td>\n",
              "      <td>507.0</td>\n",
              "      <td>1484.0</td>\n",
              "      <td>495.0</td>\n",
              "      <td>5.7934</td>\n",
              "      <td>270500.0</td>\n",
              "    </tr>\n",
              "    <tr>\n",
              "      <th>3</th>\n",
              "      <td>-118.36</td>\n",
              "      <td>33.82</td>\n",
              "      <td>28.0</td>\n",
              "      <td>67.0</td>\n",
              "      <td>15.0</td>\n",
              "      <td>49.0</td>\n",
              "      <td>11.0</td>\n",
              "      <td>6.1359</td>\n",
              "      <td>330000.0</td>\n",
              "    </tr>\n",
              "    <tr>\n",
              "      <th>4</th>\n",
              "      <td>-119.67</td>\n",
              "      <td>36.33</td>\n",
              "      <td>19.0</td>\n",
              "      <td>1241.0</td>\n",
              "      <td>244.0</td>\n",
              "      <td>850.0</td>\n",
              "      <td>237.0</td>\n",
              "      <td>2.9375</td>\n",
              "      <td>81700.0</td>\n",
              "    </tr>\n",
              "  </tbody>\n",
              "</table>\n",
              "</div>"
            ],
            "text/plain": [
              "   longitude  latitude  housing_median_age  total_rooms  total_bedrooms  \\\n",
              "0    -122.05     37.37                27.0       3885.0           661.0   \n",
              "1    -118.30     34.26                43.0       1510.0           310.0   \n",
              "2    -117.81     33.78                27.0       3589.0           507.0   \n",
              "3    -118.36     33.82                28.0         67.0            15.0   \n",
              "4    -119.67     36.33                19.0       1241.0           244.0   \n",
              "\n",
              "   population  households  median_income  median_house_value  \n",
              "0      1537.0       606.0         6.6085            344700.0  \n",
              "1       809.0       277.0         3.5990            176500.0  \n",
              "2      1484.0       495.0         5.7934            270500.0  \n",
              "3        49.0        11.0         6.1359            330000.0  \n",
              "4       850.0       237.0         2.9375             81700.0  "
            ]
          },
          "execution_count": 21,
          "metadata": {},
          "output_type": "execute_result"
        }
      ],
      "source": [
        "df2.head()"
      ]
    },
    {
      "cell_type": "markdown",
      "metadata": {
        "id": "AYKjcA-KR0q4"
      },
      "source": [
        "Based on this sample, what does this dataset represent?"
      ]
    },
    {
      "cell_type": "markdown",
      "metadata": {
        "id": "h3GZdIQaQz5J"
      },
      "source": [
        "**Step 2:** Visualize this data (Your choice of visualization)."
      ]
    },
    {
      "cell_type": "code",
      "execution_count": 22,
      "metadata": {
        "colab": {
          "base_uri": "https://localhost:8080/",
          "height": 159
        },
        "id": "FpqgKJMCRcc8",
        "outputId": "e4519b9b-c00a-41e0-d271-4597e07b84ce"
      },
      "outputs": [
        {
          "data": {
            "image/png": "[encoded data removed]",
            "text/plain": [
              "<Figure size 640x480 with 1 Axes>"
            ]
          },
          "metadata": {},
          "output_type": "display_data"
        }
      ],
      "source": [
        "plt.scatter(df2['housing_median_age'], df2['population'])\n",
        "plt.show()"
      ]
    },
    {
      "cell_type": "markdown",
      "metadata": {
        "id": "eOd-7b_jRhu9"
      },
      "source": [
        "**Step 2:** Can you create any bar plots with this data? If so, how?"
      ]
    },
    {
      "cell_type": "code",
      "execution_count": 23,
      "metadata": {
        "colab": {
          "base_uri": "https://localhost:8080/",
          "height": 430
        },
        "id": "sREy9yMSRw4t",
        "outputId": "931c8bd8-3a2a-4a34-b7cb-8550ebba2c50"
      },
      "outputs": [
        {
          "data": {
            "image/png": "[encoded data removed]",
            "text/plain": [
              "<Figure size 640x480 with 1 Axes>"
            ]
          },
          "metadata": {},
          "output_type": "display_data"
        }
      ],
      "source": [
        "plt.bar(df2['housing_median_age'], df2['population'])\n",
        "plt.show()"
      ]
    }
  ],
  "metadata": {
    "colab": {
      "provenance": []
    },
    "kernelspec": {
      "display_name": "Python 3",
      "name": "python3"
    },
    "language_info": {
      "codemirror_mode": {
        "name": "ipython",
        "version": 3
      },
      "file_extension": ".py",
      "mimetype": "text/x-python",
      "name": "python",
      "nbconvert_exporter": "python",
      "pygments_lexer": "ipython3",
      "version": "3.12.1"
    }
  },
  "nbformat": 4,
  "nbformat_minor": 0
}
